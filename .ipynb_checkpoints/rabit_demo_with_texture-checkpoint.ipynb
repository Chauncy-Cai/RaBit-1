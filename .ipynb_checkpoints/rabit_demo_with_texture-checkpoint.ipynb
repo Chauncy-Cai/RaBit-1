{
 "cells": [
  {
   "cell_type": "code",
   "execution_count": 4,
   "metadata": {},
   "outputs": [],
   "source": [
    "import numpy as np\n",
    "import meshio\n",
    "import openmesh as om\n",
    "import trimesh\n",
    "import os\n",
    "from rabit_np_with_texture import RaBitModel"
   ]
  },
  {
   "cell_type": "code",
   "execution_count": 5,
   "metadata": {},
   "outputs": [
    {
     "name": "stdout",
     "output_type": "stream",
     "text": [
      "Loading networks from \"./rabit_data/texture/texture.pkl\"...\n"
     ]
    }
   ],
   "source": [
    "os.makedirs(\"output/\", exist_ok=True)\n",
    "save_path = \"output/m_t.obj\"\n",
    "    \n",
    "np.random.seed(2)\n",
    "\n",
    "rabit = RaBitModel()\n",
    "\n",
    "# pose_shape: [23, 3]\n",
    "# beta_shape: [500]\n",
    "# theta = np.random.rand(*(23, 3))*0.1\n",
    "theta = np.zeros((23, 3))\n",
    "beta = np.random.rand(*(500,)) * 10 - 5\n",
    "beta[10:] = 0\n",
    "trans = np.zeros(rabit.trans_shape)\n",
    "\n",
    "rabit.set_params(beta=beta, pose=theta, trans=trans)\n",
    "rabit.save_to_obj_with_texture(save_path)"
   ]
  },
  {
   "cell_type": "code",
   "execution_count": 7,
   "metadata": {},
   "outputs": [
    {
     "data": {
      "text/plain": [
       "SceneViewer(width=1853, height=1025)"
      ]
     },
     "execution_count": 7,
     "metadata": {},
     "output_type": "execute_result"
    }
   ],
   "source": [
    "mesh = trimesh.load(save_path)\n",
    "mesh.show() \n",
    "# Note: Rendering using Trimesh in Notebook may result in some proble, try to non-inline viewer\n",
    "# mesh.show(viewer='gl') "
   ]
  }
 ],
 "metadata": {
  "kernelspec": {
   "display_name": "Python 3",
   "language": "python",
   "name": "python3"
  },
  "language_info": {
   "codemirror_mode": {
    "name": "ipython",
    "version": 3
   },
   "file_extension": ".py",
   "mimetype": "text/x-python",
   "name": "python",
   "nbconvert_exporter": "python",
   "pygments_lexer": "ipython3",
   "version": "3.8.3"
  }
 },
 "nbformat": 4,
 "nbformat_minor": 4
}
